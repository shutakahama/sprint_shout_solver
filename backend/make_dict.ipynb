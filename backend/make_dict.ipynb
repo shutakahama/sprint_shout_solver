{
 "cells": [
  {
   "cell_type": "markdown",
   "id": "57662806-e374-4f6c-bab6-2500776af2b2",
   "metadata": {},
   "source": [
    "# Sprint Shout 辞書作成 from mecab"
   ]
  },
  {
   "cell_type": "code",
   "execution_count": 1,
   "id": "f6c084c0-ed39-4230-a560-a1a70ecc965e",
   "metadata": {},
   "outputs": [],
   "source": [
    "import csv\n",
    "import json\n",
    "import jaconv"
   ]
  },
  {
   "cell_type": "code",
   "execution_count": 2,
   "id": "c9c43912-4348-4d25-ac54-78dae6e57b64",
   "metadata": {},
   "outputs": [],
   "source": [
    "valid_dict = ['neologd-adjective-verb-dict-seed.20160324',\n",
    "              'neologd-common-noun-ortho-variant-dict-seed.20170228',\n",
    "              'neologd-noun-sahen-conn-ortho-variant-dict-seed.20160323',\n",
    "              'neologd-proper-noun-ortho-variant-dict-seed.20161110']\n",
    "\n",
    "words = set()\n",
    "\n",
    "for file_name in valid_dict:\n",
    "    with open(f'mecab-seed/{file_name}.csv') as f:\n",
    "        reader = csv.reader(f)\n",
    "        for row in reader:\n",
    "            if row[4] == '名詞':\n",
    "                words.add((row[-3], jaconv.kata2hira(row[-2])))\n",
    "                # words.add(tuple(row))\n",
    "                \n",
    "# with open(f'mecab-seed/mecab-user-dict-seed.20200910.csv') as f:\n",
    "#     reader = csv.reader(f)\n",
    "#     for row in reader:\n",
    "#         if row[6] in ['人名']:\n",
    "#             words.add((row[-3], row[-2]))\n",
    "#             # words.add(tuple(row))"
   ]
  },
  {
   "cell_type": "code",
   "execution_count": 3,
   "id": "e0958436-ce24-459a-88d9-7e6a3f6c5f46",
   "metadata": {},
   "outputs": [
    {
     "data": {
      "text/plain": [
       "70993"
      ]
     },
     "execution_count": 3,
     "metadata": {},
     "output_type": "execute_result"
    }
   ],
   "source": [
    "len(words)"
   ]
  },
  {
   "cell_type": "code",
   "execution_count": 4,
   "id": "14695956-7d0b-4df9-b99a-8b53eeef62db",
   "metadata": {
    "tags": []
   },
   "outputs": [
    {
     "data": {
      "text/plain": [
       "[('タイトルマッチ', 'たいとるまっち'),\n",
       " ('斑入り', 'ふいり'),\n",
       " ('シアッシリ山', 'しあっしりやま'),\n",
       " ('性器', 'せいき'),\n",
       " ('不入り', 'ふいり'),\n",
       " ('首席', 'しゅせき'),\n",
       " ('猿臂', 'えんぴ'),\n",
       " ('蛇石山', 'じゃいしやま'),\n",
       " ('法師山', 'ほうしやま'),\n",
       " ('熊野山', 'くまのさん'),\n",
       " ('霊像', 'れいぞう'),\n",
       " ('雲級', 'うんきゅう'),\n",
       " ('軒忍', 'のきしのぶ'),\n",
       " ('怪島', 'けしま'),\n",
       " ('帯状', 'おびじょう'),\n",
       " ('夕鶴', 'ゆうづる'),\n",
       " ('軽音楽', 'けいおんがく'),\n",
       " ('心積り', 'こころづもり'),\n",
       " ('優先', 'ゆうせん'),\n",
       " ('東京貨物ターミナル', 'とうきょうかもつたーみなる')]"
      ]
     },
     "execution_count": 4,
     "metadata": {},
     "output_type": "execute_result"
    }
   ],
   "source": [
    "list(words)[100:120]"
   ]
  },
  {
   "cell_type": "code",
   "execution_count": 5,
   "id": "16c9b5d1-b423-4741-be4e-16fcc9ae9562",
   "metadata": {},
   "outputs": [],
   "source": [
    "d = {}\n",
    "\n",
    "for w in list(words):\n",
    "    length = len(w[1])\n",
    "    if length < 5 or length > 9:\n",
    "        continue\n",
    "    if length not in d:\n",
    "        d[length] = {}\n",
    "    for i in range(length):\n",
    "        if i not in d[length]:\n",
    "            d[length][i] = {}\n",
    "            \n",
    "        m = w[1][i]\n",
    "        if m not in d[length][i]:\n",
    "            d[length][i][m] = []\n",
    "        \n",
    "        d[length][i][m].append(w)"
   ]
  },
  {
   "cell_type": "code",
   "execution_count": 6,
   "id": "56bc497e-925e-40ae-8a4e-ff045332d847",
   "metadata": {},
   "outputs": [],
   "source": [
    "with open('sprint-shout-dict.json', 'w') as f:\n",
    "    json.dump(d, f, indent=4, ensure_ascii=False)"
   ]
  },
  {
   "cell_type": "code",
   "execution_count": null,
   "id": "5815d67b-0617-4342-9f05-10b38133c36d",
   "metadata": {},
   "outputs": [],
   "source": []
  }
 ],
 "metadata": {
  "kernelspec": {
   "display_name": "Python 3 (ipykernel)",
   "language": "python",
   "name": "python3"
  },
  "language_info": {
   "codemirror_mode": {
    "name": "ipython",
    "version": 3
   },
   "file_extension": ".py",
   "mimetype": "text/x-python",
   "name": "python",
   "nbconvert_exporter": "python",
   "pygments_lexer": "ipython3",
   "version": "3.9.5"
  }
 },
 "nbformat": 4,
 "nbformat_minor": 5
}
